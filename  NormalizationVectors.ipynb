{
 "cells": [
  {
   "cell_type": "markdown",
   "id": "c183a38f",
   "metadata": {},
   "source": [
    "# Normalization of vectors"
   ]
  },
  {
   "cell_type": "code",
   "execution_count": 2,
   "id": "76182d56",
   "metadata": {},
   "outputs": [],
   "source": [
    "#load lib\n",
    "import os\n",
    "import string\n",
    "import pandas as pd\n",
    "from stopwords import get_stopwords\n",
    "from hazm import word_tokenize,sent_tokenize\n",
    "from hazm import POSTagger,Normalizer\n",
    "import re\n",
    "from sklearn.decomposition import PCA\n",
    "stopwords = get_stopwords('persian')"
   ]
  },
  {
   "cell_type": "markdown",
   "id": "e85c8529",
   "metadata": {},
   "source": [
    "# Normalization"
   ]
  },
  {
   "cell_type": "code",
   "execution_count": 39,
   "id": "71299d93",
   "metadata": {},
   "outputs": [],
   "source": [
    "#read ds\n",
    "excel_data_df = pd.read_excel('vec.xlsx', sheet_name='autors vector')"
   ]
  },
  {
   "cell_type": "code",
   "execution_count": 40,
   "id": "8c68c0ec",
   "metadata": {},
   "outputs": [],
   "source": [
    "df_s = excel_data_df.iloc[:,1:54].copy()\n",
    "\n",
    "#df_s1 = excel_data_df.iloc[:,1:33].copy()\n",
    "#df_s2 = excel_data_df.iloc[:,33:45].copy() \n",
    "#df_s3 = excel_data_df.iloc[:,45:54].copy() "
   ]
  },
  {
   "cell_type": "code",
   "execution_count": 42,
   "id": "54ed84b7",
   "metadata": {},
   "outputs": [],
   "source": [
    "df_s_scaled = df_s.copy()\n",
    "\n",
    "#df_s1_scaled = df_s1.copy()\n",
    "#df_s2_scaled = df_s2.copy()\n",
    "#df_s3_scaled = df_s3.copy()"
   ]
  },
  {
   "cell_type": "code",
   "execution_count": 43,
   "id": "bf768f2e",
   "metadata": {},
   "outputs": [],
   "source": [
    "# apply normalization techniques \n",
    "\n",
    "for column in df_s_scaled.columns: \n",
    "    df_s_scaled[column] = (df_s_scaled[column] - df_s_scaled[column].min()) / (df_s_scaled[column].max() - df_s_scaled[column].min())\n",
    "\n",
    "#for column in df_s1_scaled.columns: \n",
    "#    df_s1_scaled[column] = (df_s1_scaled[column] - df_s1_scaled[column].min()) / (df_s1_scaled[column].max() - df_s1_scaled[column].min())\n",
    "    \n",
    "#for column in df_s2_scaled.columns: \n",
    "#    df_s2_scaled[column] = (df_s2_scaled[column] - df_s2_scaled[column].min()) / (df_s2_scaled[column].max() - df_s2_scaled[column].min())\n",
    "    \n",
    "#for column in df_s3_scaled.columns: \n",
    "#    df_s3_scaled[column] = (df_s3_scaled[column] - df_s3_scaled[column].min()) / (df_s3_scaled[column].max() - df_s3_scaled[column].min())"
   ]
  },
  {
   "cell_type": "code",
   "execution_count": null,
   "id": "b3943050",
   "metadata": {},
   "outputs": [],
   "source": [
    "# view normalized data \n",
    "display(df_s_scaled) "
   ]
  },
  {
   "cell_type": "code",
   "execution_count": 48,
   "id": "6a4d89f3",
   "metadata": {},
   "outputs": [],
   "source": [
    "# concat columns\n",
    "df_final = pd.concat([df_s_scaled], axis=1)"
   ]
  },
  {
   "cell_type": "code",
   "execution_count": null,
   "id": "efd26ebe",
   "metadata": {},
   "outputs": [],
   "source": [
    "# Save Normalized vectors to excel files\n",
    "writer = pd.ExcelWriter('vec-pdf-norm.xlsx', engine='xlsxwriter')\n",
    "df_s_scaled.to_excel(writer, sheet_name='autors vector', index=False)\n",
    "writer.save()\n",
    "writer.close()"
   ]
  }
 ],
 "metadata": {
  "kernelspec": {
   "display_name": "Python 3",
   "language": "python",
   "name": "python3"
  },
  "language_info": {
   "codemirror_mode": {
    "name": "ipython",
    "version": 3
   },
   "file_extension": ".py",
   "mimetype": "text/x-python",
   "name": "python",
   "nbconvert_exporter": "python",
   "pygments_lexer": "ipython3",
   "version": "3.8.8"
  }
 },
 "nbformat": 4,
 "nbformat_minor": 5
}
