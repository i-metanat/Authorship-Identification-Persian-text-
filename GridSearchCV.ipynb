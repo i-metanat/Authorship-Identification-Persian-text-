{
 "cells": [
  {
   "cell_type": "markdown",
   "id": "936d9733",
   "metadata": {},
   "source": [
    "# GridSearchCV"
   ]
  },
  {
   "cell_type": "code",
   "execution_count": null,
   "id": "887098b2",
   "metadata": {},
   "outputs": [],
   "source": [
    "import numpy as np\n",
    "from sklearn.datasets import load_digits\n",
    "from sklearn.model_selection import train_test_split,GridSearchCV,RandomizedSearchCV\n",
    "from sklearn.neural_network import MLPClassifier\n",
    "from sklearn.metrics import confusion_matrix, accuracy_score \n",
    "import pandas as pd\n",
    "import random"
   ]
  },
  {
   "cell_type": "code",
   "execution_count": null,
   "id": "dfcd9d5c",
   "metadata": {},
   "outputs": [],
   "source": [
    "# read vectors file\n",
    "df = pd.read_excel(r'vec.xlsx')"
   ]
  },
  {
   "cell_type": "code",
   "execution_count": null,
   "id": "4fd1e46c",
   "metadata": {},
   "outputs": [],
   "source": [
    "dataset = df"
   ]
  },
  {
   "cell_type": "code",
   "execution_count": null,
   "id": "4b63e2e8",
   "metadata": {},
   "outputs": [],
   "source": [
    "y = dataset[\"y\"].values\n",
    "\n",
    "# select all columns except the target\n",
    "X = dataset.loc[:, dataset.columns != \"y\"].values"
   ]
  },
  {
   "cell_type": "code",
   "execution_count": null,
   "id": "f3a9462a",
   "metadata": {},
   "outputs": [],
   "source": [
    "x_train, x_test, y_train, y_test = train_test_split(X, y,stratify=y, test_size=0.20, random_state=1)"
   ]
  },
  {
   "cell_type": "code",
   "execution_count": null,
   "id": "3d41955a",
   "metadata": {},
   "outputs": [],
   "source": [
    "# generate parameters lists\n",
    "lst_iter = []\n",
    "lst_Hlayer = []\n",
    "for i in range(200,401,10):\n",
    "    lst_iter.append(i)\n",
    "\n",
    "for i in range(200,301,10):\n",
    "    lst_Hlayer.append(i)"
   ]
  },
  {
   "cell_type": "code",
   "execution_count": null,
   "id": "4ea5587d",
   "metadata": {},
   "outputs": [],
   "source": [
    "NN2 = MLPClassifier(activation = 'relu',solver='adam',alpha=0.0001,shuffle=True,learning_rate='adaptive',random_state=1)\n",
    "NN2.out_activation_='softmax' \n",
    "NN2.fit(x_train, y_train)"
   ]
  },
  {
   "cell_type": "code",
   "execution_count": null,
   "id": "e78e9609",
   "metadata": {},
   "outputs": [],
   "source": [
    "param_grid = [\n",
    "        {\n",
    "            'max_iter':[(200)],\n",
    "            'alpha': [0.0001],\n",
    "            'hidden_layer_sizes':lst_Hlayer\n",
    "        }]"
   ]
  },
  {
   "cell_type": "code",
   "execution_count": null,
   "id": "b41d2012",
   "metadata": {},
   "outputs": [],
   "source": [
    "clf = GridSearchCV(NN2, param_grid, n_jobs=-1, scoring='accuracy')\n",
    "clf.fit(X,y)\n",
    "\n",
    "print(\"Best parameters set found on development set:\")\n",
    "print(clf.best_params_)\n",
    "print(clf.best_score_)"
   ]
  }
 ],
 "metadata": {
  "kernelspec": {
   "display_name": "Python 3",
   "language": "python",
   "name": "python3"
  },
  "language_info": {
   "codemirror_mode": {
    "name": "ipython",
    "version": 3
   },
   "file_extension": ".py",
   "mimetype": "text/x-python",
   "name": "python",
   "nbconvert_exporter": "python",
   "pygments_lexer": "ipython3",
   "version": "3.8.8"
  }
 },
 "nbformat": 4,
 "nbformat_minor": 5
}
