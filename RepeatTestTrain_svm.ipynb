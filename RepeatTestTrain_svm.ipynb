{
 "cells": [
  {
   "cell_type": "markdown",
   "id": "dcb772c2",
   "metadata": {},
   "source": [
    "# Classification(Svm)"
   ]
  },
  {
   "cell_type": "code",
   "execution_count": null,
   "id": "887098b2",
   "metadata": {},
   "outputs": [],
   "source": [
    "import numpy as np\n",
    "from sklearn.datasets import load_digits\n",
    "from sklearn.model_selection import train_test_split,GridSearchCV,cross_val_score\n",
    "from sklearn.neural_network import MLPClassifier\n",
    "from sklearn.metrics import confusion_matrix, accuracy_score,f1_score\n",
    "from sklearn import svm\n",
    "import pandas as pd\n",
    "import random"
   ]
  },
  {
   "cell_type": "code",
   "execution_count": null,
   "id": "dfcd9d5c",
   "metadata": {},
   "outputs": [],
   "source": [
    "df = pd.read_excel(r'vec.xlsx')"
   ]
  },
  {
   "cell_type": "code",
   "execution_count": null,
   "id": "4fd1e46c",
   "metadata": {},
   "outputs": [],
   "source": [
    "dataset = df"
   ]
  },
  {
   "cell_type": "code",
   "execution_count": null,
   "id": "4b63e2e8",
   "metadata": {},
   "outputs": [],
   "source": [
    "y = dataset[\"y\"].values\n",
    "X = dataset.loc[:, dataset.columns != \"y\"].values"
   ]
  },
  {
   "cell_type": "code",
   "execution_count": null,
   "id": "dca248bf",
   "metadata": {
    "scrolled": true
   },
   "outputs": [],
   "source": [
    "def RepeatTestTrain(g,c):\n",
    "    accuracies = []\n",
    "    for rs in range(0, 10):\n",
    "        x_train, x_test, y_train, y_test = train_test_split(X, y, stratify=y, test_size=0.20, random_state=rs)\n",
    "        model = svm.SVC(kernel='rbf', gamma=g, C=c)\n",
    "        model.fit(x_train, y_train)\n",
    "        y_pred = model.predict(x_test)\n",
    "        accuracies.append(f1_score(y_test,y_pred, average=None))\n",
    "    return accuracies"
   ]
  },
  {
   "cell_type": "code",
   "execution_count": null,
   "id": "b4dbfaed",
   "metadata": {},
   "outputs": [],
   "source": [
    "acc_list = []\n",
    "for c in np.arange(0.1,0.9,0.1):\n",
    "    for g in np.arange(1.0,10.0,1.0):\n",
    "        acc_list.append([c, g, np.mean(RepeatTestTrain(c,g))])"
   ]
  },
  {
   "cell_type": "code",
   "execution_count": null,
   "id": "84165b87",
   "metadata": {
    "scrolled": false
   },
   "outputs": [],
   "source": [
    "print(acc_list)"
   ]
  },
  {
   "cell_type": "code",
   "execution_count": null,
   "id": "653fa5e1",
   "metadata": {},
   "outputs": [],
   "source": [
    "res = [max(idx) for idx in zip(*acc_list)]\n",
    "res"
   ]
  },
  {
   "cell_type": "code",
   "execution_count": null,
   "id": "5bb5c52f",
   "metadata": {},
   "outputs": [],
   "source": [
    "np.mean(RepeatTestTrain(0.1,6.0))"
   ]
  }
 ],
 "metadata": {
  "kernelspec": {
   "display_name": "Python 3",
   "language": "python",
   "name": "python3"
  },
  "language_info": {
   "codemirror_mode": {
    "name": "ipython",
    "version": 3
   },
   "file_extension": ".py",
   "mimetype": "text/x-python",
   "name": "python",
   "nbconvert_exporter": "python",
   "pygments_lexer": "ipython3",
   "version": "3.8.8"
  }
 },
 "nbformat": 4,
 "nbformat_minor": 5
}
